{
 "cells": [
  {
   "cell_type": "markdown",
   "metadata": {},
   "source": [
    "## Table of contents:\n",
    "\n",
    "1. [Introduction](#P1)\n",
    "2. [Load packages and data tables](#P2)\n",
    "    1. [Merge data frames](#P21)\n",
    "3. [Exploratory data analysis](#P3)\n",
    "    1. [Create features](#P31)\n",
    "    2. [Evaluate the randomness of the test group assignment](#P32)\n",
    "4. [Compare conversion and revenue by control and test group](#P4)\n",
    "    1. [Differences in conversion](#P41)\n",
    "    2. [Differences in revenue](#P42)\n",
    "5. [Insights into consumer behavior](#P5)\n",
    "6. [How long should the experiment been run for?](#P6)\n",
    "7. [Conclusions](#P7)\n",
    "\n",
    "\n"
   ]
  },
  {
   "cell_type": "markdown",
   "metadata": {},
   "source": [
    "## Introduction<a name=\"P1\"></a>\n"
   ]
  },
  {
   "cell_type": "markdown",
   "metadata": {},
   "source": [
    "The goal to evaluate whether a pricing test running on the site has been successful. As always, you should focus on user segmentation and provide insights about segments who behave differently as well as any other insights you might find.\n",
    "\n",
    "Company XYZ sells a software for 39 dollars, but they have run an experiment to evaluate if how increasing the price to 59 dollars changes customer purchases.\n",
    "\n",
    "The VP of Product has asked:\n",
    "\n",
    "1. Should the company sell the software for 39 or 59?\n",
    "\n",
    "2. The VP of Product is interested in having a holistic view into user behavior, especially focusing on actionable insights that might increase conversion rate. What are your main findings looking at the data?\n",
    "\n",
    "3. The VP of Product feels that the test has been running for too long and he should have been able to get statistically significant results in a shorter time. Do you agree with her intuition? After how many days you would have stopped the test? Explain why.\n",
    "\n",
    "__Assumptions I made are in bold.__ _Questions I have are in italics_"
   ]
  },
  {
   "cell_type": "markdown",
   "metadata": {},
   "source": [
    "## Load packages and data tables<a name=\"P2\"></a>\n"
   ]
  },
  {
   "cell_type": "code",
   "execution_count": 32,
   "metadata": {},
   "outputs": [],
   "source": [
    "import pandas as pd\n",
    "from scipy import stats\n",
    "from scipy.stats import fisher_exact\n",
    "from scipy.stats import ttest_1samp, wilcoxon, ttest_ind, mannwhitneyu\n",
    "import numpy as np\n",
    "import re\n",
    "import datetime\n",
    "import pathlib\n",
    "import urllib.request\n",
    "import geopandas as gpd\n",
    "from shapely.geometry import Point\n",
    "import matplotlib.pyplot as plt\n",
    "import random\n",
    "import numpy\n",
    "from matplotlib import pyplot\n",
    "import seaborn as sns\n",
    "from statsmodels.stats import power\n",
    "from datetime import *\n",
    "from geopandas import GeoSeries\n",
    "\n"
   ]
  },
  {
   "cell_type": "code",
   "execution_count": 7,
   "metadata": {},
   "outputs": [
    {
     "name": "stdout",
     "output_type": "stream",
     "text": [
      "shape of user table (275616, 5)\n"
     ]
    }
   ],
   "source": [
    "user_table = pd.read_csv('/Users/rasmussenrogers/Downloads/user_table.txt')\n",
    "print(\"shape of user table\", user_table.shape)\n"
   ]
  },
  {
   "cell_type": "code",
   "execution_count": 8,
   "metadata": {},
   "outputs": [
    {
     "name": "stdout",
     "output_type": "stream",
     "text": [
      "shape of test table (316800, 9)\n"
     ]
    }
   ],
   "source": [
    "test_results = pd.read_csv('/Users/rasmussenrogers/Downloads/test_results.txt')\n",
    "print(\"shape of test table\", test_results.shape)\n"
   ]
  },
  {
   "cell_type": "markdown",
   "metadata": {},
   "source": [
    "### Merge tables <a name=\"P21\"></a>"
   ]
  },
  {
   "cell_type": "code",
   "execution_count": 9,
   "metadata": {},
   "outputs": [
    {
     "name": "stdout",
     "output_type": "stream",
     "text": [
      "shape of merged table (316800, 13)\n"
     ]
    }
   ],
   "source": [
    "merge_data = pd.merge(test_results, user_table, on='user_id', how='outer')\n",
    "print(\"shape of merged table\", merge_data.shape)"
   ]
  },
  {
   "cell_type": "markdown",
   "metadata": {},
   "source": [
    "## Exploratory data analysis<a name=\"P3\"></a>\n"
   ]
  },
  {
   "cell_type": "code",
   "execution_count": 10,
   "metadata": {},
   "outputs": [
    {
     "data": {
      "text/html": [
       "<div>\n",
       "<style scoped>\n",
       "    .dataframe tbody tr th:only-of-type {\n",
       "        vertical-align: middle;\n",
       "    }\n",
       "\n",
       "    .dataframe tbody tr th {\n",
       "        vertical-align: top;\n",
       "    }\n",
       "\n",
       "    .dataframe thead th {\n",
       "        text-align: right;\n",
       "    }\n",
       "</style>\n",
       "<table border=\"1\" class=\"dataframe\">\n",
       "  <thead>\n",
       "    <tr style=\"text-align: right;\">\n",
       "      <th></th>\n",
       "      <th>Unnamed: 0</th>\n",
       "      <th>user_id</th>\n",
       "      <th>timestamp</th>\n",
       "      <th>source</th>\n",
       "      <th>device</th>\n",
       "      <th>operative_system</th>\n",
       "      <th>test</th>\n",
       "      <th>price</th>\n",
       "      <th>converted</th>\n",
       "      <th>city</th>\n",
       "      <th>country</th>\n",
       "      <th>lat</th>\n",
       "      <th>long</th>\n",
       "    </tr>\n",
       "  </thead>\n",
       "  <tbody>\n",
       "    <tr>\n",
       "      <th>0</th>\n",
       "      <td>0</td>\n",
       "      <td>604839</td>\n",
       "      <td>2015-05-08 03:38:34</td>\n",
       "      <td>ads_facebook</td>\n",
       "      <td>mobile</td>\n",
       "      <td>iOS</td>\n",
       "      <td>0</td>\n",
       "      <td>39.0</td>\n",
       "      <td>0</td>\n",
       "      <td>Buffalo</td>\n",
       "      <td>USA</td>\n",
       "      <td>42.89</td>\n",
       "      <td>-78.86</td>\n",
       "    </tr>\n",
       "    <tr>\n",
       "      <th>1</th>\n",
       "      <td>1</td>\n",
       "      <td>624057</td>\n",
       "      <td>2015-05-10 21:08:46</td>\n",
       "      <td>seo-google</td>\n",
       "      <td>mobile</td>\n",
       "      <td>android</td>\n",
       "      <td>0</td>\n",
       "      <td>39.0</td>\n",
       "      <td>0</td>\n",
       "      <td>Lakeville</td>\n",
       "      <td>USA</td>\n",
       "      <td>44.68</td>\n",
       "      <td>-93.24</td>\n",
       "    </tr>\n",
       "    <tr>\n",
       "      <th>2</th>\n",
       "      <td>2</td>\n",
       "      <td>317970</td>\n",
       "      <td>2015-04-04 15:01:23</td>\n",
       "      <td>ads-bing</td>\n",
       "      <td>mobile</td>\n",
       "      <td>android</td>\n",
       "      <td>0</td>\n",
       "      <td>39.0</td>\n",
       "      <td>0</td>\n",
       "      <td>Parma</td>\n",
       "      <td>USA</td>\n",
       "      <td>41.38</td>\n",
       "      <td>-81.73</td>\n",
       "    </tr>\n",
       "    <tr>\n",
       "      <th>3</th>\n",
       "      <td>3</td>\n",
       "      <td>685636</td>\n",
       "      <td>2015-05-07 07:26:01</td>\n",
       "      <td>direct_traffic</td>\n",
       "      <td>mobile</td>\n",
       "      <td>iOS</td>\n",
       "      <td>1</td>\n",
       "      <td>59.0</td>\n",
       "      <td>0</td>\n",
       "      <td>Fayetteville</td>\n",
       "      <td>USA</td>\n",
       "      <td>35.07</td>\n",
       "      <td>-78.90</td>\n",
       "    </tr>\n",
       "    <tr>\n",
       "      <th>4</th>\n",
       "      <td>4</td>\n",
       "      <td>820854</td>\n",
       "      <td>2015-05-24 11:04:40</td>\n",
       "      <td>ads_facebook</td>\n",
       "      <td>web</td>\n",
       "      <td>mac</td>\n",
       "      <td>0</td>\n",
       "      <td>39.0</td>\n",
       "      <td>0</td>\n",
       "      <td>Fishers</td>\n",
       "      <td>USA</td>\n",
       "      <td>39.95</td>\n",
       "      <td>-86.02</td>\n",
       "    </tr>\n",
       "  </tbody>\n",
       "</table>\n",
       "</div>"
      ],
      "text/plain": [
       "   Unnamed: 0  user_id            timestamp          source  device  \\\n",
       "0           0   604839  2015-05-08 03:38:34    ads_facebook  mobile   \n",
       "1           1   624057  2015-05-10 21:08:46      seo-google  mobile   \n",
       "2           2   317970  2015-04-04 15:01:23        ads-bing  mobile   \n",
       "3           3   685636  2015-05-07 07:26:01  direct_traffic  mobile   \n",
       "4           4   820854  2015-05-24 11:04:40    ads_facebook     web   \n",
       "\n",
       "  operative_system  test  price  converted          city country    lat   long  \n",
       "0              iOS     0   39.0          0       Buffalo     USA  42.89 -78.86  \n",
       "1          android     0   39.0          0     Lakeville     USA  44.68 -93.24  \n",
       "2          android     0   39.0          0         Parma     USA  41.38 -81.73  \n",
       "3              iOS     1   59.0          0  Fayetteville     USA  35.07 -78.90  \n",
       "4              mac     0   39.0          0       Fishers     USA  39.95 -86.02  "
      ]
     },
     "execution_count": 10,
     "metadata": {},
     "output_type": "execute_result"
    }
   ],
   "source": [
    "merge_data.head()"
   ]
  },
  {
   "cell_type": "code",
   "execution_count": 11,
   "metadata": {
    "scrolled": true
   },
   "outputs": [
    {
     "data": {
      "text/html": [
       "<div>\n",
       "<style scoped>\n",
       "    .dataframe tbody tr th:only-of-type {\n",
       "        vertical-align: middle;\n",
       "    }\n",
       "\n",
       "    .dataframe tbody tr th {\n",
       "        vertical-align: top;\n",
       "    }\n",
       "\n",
       "    .dataframe thead th {\n",
       "        text-align: right;\n",
       "    }\n",
       "</style>\n",
       "<table border=\"1\" class=\"dataframe\">\n",
       "  <thead>\n",
       "    <tr style=\"text-align: right;\">\n",
       "      <th></th>\n",
       "      <th>Unnamed: 0</th>\n",
       "      <th>user_id</th>\n",
       "      <th>timestamp</th>\n",
       "      <th>source</th>\n",
       "      <th>device</th>\n",
       "      <th>operative_system</th>\n",
       "      <th>test</th>\n",
       "      <th>price</th>\n",
       "      <th>converted</th>\n",
       "      <th>city</th>\n",
       "      <th>country</th>\n",
       "      <th>lat</th>\n",
       "      <th>long</th>\n",
       "    </tr>\n",
       "  </thead>\n",
       "  <tbody>\n",
       "    <tr>\n",
       "      <th>count</th>\n",
       "      <td>316800.000000</td>\n",
       "      <td>316800.000000</td>\n",
       "      <td>316466</td>\n",
       "      <td>316488</td>\n",
       "      <td>316800</td>\n",
       "      <td>296461</td>\n",
       "      <td>316800.000000</td>\n",
       "      <td>3.168000e+05</td>\n",
       "      <td>316800.000000</td>\n",
       "      <td>275616</td>\n",
       "      <td>275616</td>\n",
       "      <td>275616.000000</td>\n",
       "      <td>275616.000000</td>\n",
       "    </tr>\n",
       "    <tr>\n",
       "      <th>unique</th>\n",
       "      <td>NaN</td>\n",
       "      <td>NaN</td>\n",
       "      <td>141147</td>\n",
       "      <td>12</td>\n",
       "      <td>2</td>\n",
       "      <td>8</td>\n",
       "      <td>NaN</td>\n",
       "      <td>NaN</td>\n",
       "      <td>NaN</td>\n",
       "      <td>923</td>\n",
       "      <td>1</td>\n",
       "      <td>NaN</td>\n",
       "      <td>NaN</td>\n",
       "    </tr>\n",
       "    <tr>\n",
       "      <th>top</th>\n",
       "      <td>NaN</td>\n",
       "      <td>NaN</td>\n",
       "      <td>2015-04-12 11:51:16</td>\n",
       "      <td>direct_traffic</td>\n",
       "      <td>mobile</td>\n",
       "      <td>windows</td>\n",
       "      <td>NaN</td>\n",
       "      <td>NaN</td>\n",
       "      <td>NaN</td>\n",
       "      <td>New York</td>\n",
       "      <td>USA</td>\n",
       "      <td>NaN</td>\n",
       "      <td>NaN</td>\n",
       "    </tr>\n",
       "    <tr>\n",
       "      <th>freq</th>\n",
       "      <td>NaN</td>\n",
       "      <td>NaN</td>\n",
       "      <td>12</td>\n",
       "      <td>60307</td>\n",
       "      <td>186471</td>\n",
       "      <td>100878</td>\n",
       "      <td>NaN</td>\n",
       "      <td>NaN</td>\n",
       "      <td>NaN</td>\n",
       "      <td>25748</td>\n",
       "      <td>275616</td>\n",
       "      <td>NaN</td>\n",
       "      <td>NaN</td>\n",
       "    </tr>\n",
       "    <tr>\n",
       "      <th>mean</th>\n",
       "      <td>158399.500000</td>\n",
       "      <td>499281.341840</td>\n",
       "      <td>NaN</td>\n",
       "      <td>NaN</td>\n",
       "      <td>NaN</td>\n",
       "      <td>NaN</td>\n",
       "      <td>0.360079</td>\n",
       "      <td>6.457590e+06</td>\n",
       "      <td>0.018333</td>\n",
       "      <td>NaN</td>\n",
       "      <td>NaN</td>\n",
       "      <td>37.111680</td>\n",
       "      <td>-93.981772</td>\n",
       "    </tr>\n",
       "    <tr>\n",
       "      <th>std</th>\n",
       "      <td>91452.426977</td>\n",
       "      <td>288591.154044</td>\n",
       "      <td>NaN</td>\n",
       "      <td>NaN</td>\n",
       "      <td>NaN</td>\n",
       "      <td>NaN</td>\n",
       "      <td>0.480024</td>\n",
       "      <td>6.797307e+07</td>\n",
       "      <td>0.134154</td>\n",
       "      <td>NaN</td>\n",
       "      <td>NaN</td>\n",
       "      <td>5.209627</td>\n",
       "      <td>18.086486</td>\n",
       "    </tr>\n",
       "    <tr>\n",
       "      <th>min</th>\n",
       "      <td>0.000000</td>\n",
       "      <td>3.000000</td>\n",
       "      <td>NaN</td>\n",
       "      <td>NaN</td>\n",
       "      <td>NaN</td>\n",
       "      <td>NaN</td>\n",
       "      <td>0.000000</td>\n",
       "      <td>3.900000e+01</td>\n",
       "      <td>0.000000</td>\n",
       "      <td>NaN</td>\n",
       "      <td>NaN</td>\n",
       "      <td>19.700000</td>\n",
       "      <td>-157.800000</td>\n",
       "    </tr>\n",
       "    <tr>\n",
       "      <th>25%</th>\n",
       "      <td>79199.750000</td>\n",
       "      <td>249525.750000</td>\n",
       "      <td>NaN</td>\n",
       "      <td>NaN</td>\n",
       "      <td>NaN</td>\n",
       "      <td>NaN</td>\n",
       "      <td>0.000000</td>\n",
       "      <td>3.900000e+01</td>\n",
       "      <td>0.000000</td>\n",
       "      <td>NaN</td>\n",
       "      <td>NaN</td>\n",
       "      <td>33.660000</td>\n",
       "      <td>-112.200000</td>\n",
       "    </tr>\n",
       "    <tr>\n",
       "      <th>50%</th>\n",
       "      <td>158399.500000</td>\n",
       "      <td>499021.500000</td>\n",
       "      <td>NaN</td>\n",
       "      <td>NaN</td>\n",
       "      <td>NaN</td>\n",
       "      <td>NaN</td>\n",
       "      <td>0.000000</td>\n",
       "      <td>3.900000e+01</td>\n",
       "      <td>0.000000</td>\n",
       "      <td>NaN</td>\n",
       "      <td>NaN</td>\n",
       "      <td>37.740000</td>\n",
       "      <td>-88.930000</td>\n",
       "    </tr>\n",
       "    <tr>\n",
       "      <th>75%</th>\n",
       "      <td>237599.250000</td>\n",
       "      <td>749025.500000</td>\n",
       "      <td>NaN</td>\n",
       "      <td>NaN</td>\n",
       "      <td>NaN</td>\n",
       "      <td>NaN</td>\n",
       "      <td>1.000000</td>\n",
       "      <td>5.900000e+01</td>\n",
       "      <td>0.000000</td>\n",
       "      <td>NaN</td>\n",
       "      <td>NaN</td>\n",
       "      <td>40.700000</td>\n",
       "      <td>-78.910000</td>\n",
       "    </tr>\n",
       "    <tr>\n",
       "      <th>max</th>\n",
       "      <td>316799.000000</td>\n",
       "      <td>1000000.000000</td>\n",
       "      <td>NaN</td>\n",
       "      <td>NaN</td>\n",
       "      <td>NaN</td>\n",
       "      <td>NaN</td>\n",
       "      <td>1.000000</td>\n",
       "      <td>9.998843e+08</td>\n",
       "      <td>1.000000</td>\n",
       "      <td>NaN</td>\n",
       "      <td>NaN</td>\n",
       "      <td>61.180000</td>\n",
       "      <td>30.310000</td>\n",
       "    </tr>\n",
       "  </tbody>\n",
       "</table>\n",
       "</div>"
      ],
      "text/plain": [
       "           Unnamed: 0         user_id            timestamp          source  \\\n",
       "count   316800.000000   316800.000000               316466          316488   \n",
       "unique            NaN             NaN               141147              12   \n",
       "top               NaN             NaN  2015-04-12 11:51:16  direct_traffic   \n",
       "freq              NaN             NaN                   12           60307   \n",
       "mean    158399.500000   499281.341840                  NaN             NaN   \n",
       "std      91452.426977   288591.154044                  NaN             NaN   \n",
       "min          0.000000        3.000000                  NaN             NaN   \n",
       "25%      79199.750000   249525.750000                  NaN             NaN   \n",
       "50%     158399.500000   499021.500000                  NaN             NaN   \n",
       "75%     237599.250000   749025.500000                  NaN             NaN   \n",
       "max     316799.000000  1000000.000000                  NaN             NaN   \n",
       "\n",
       "        device operative_system           test         price      converted  \\\n",
       "count   316800           296461  316800.000000  3.168000e+05  316800.000000   \n",
       "unique       2                8            NaN           NaN            NaN   \n",
       "top     mobile          windows            NaN           NaN            NaN   \n",
       "freq    186471           100878            NaN           NaN            NaN   \n",
       "mean       NaN              NaN       0.360079  6.457590e+06       0.018333   \n",
       "std        NaN              NaN       0.480024  6.797307e+07       0.134154   \n",
       "min        NaN              NaN       0.000000  3.900000e+01       0.000000   \n",
       "25%        NaN              NaN       0.000000  3.900000e+01       0.000000   \n",
       "50%        NaN              NaN       0.000000  3.900000e+01       0.000000   \n",
       "75%        NaN              NaN       1.000000  5.900000e+01       0.000000   \n",
       "max        NaN              NaN       1.000000  9.998843e+08       1.000000   \n",
       "\n",
       "            city country            lat           long  \n",
       "count     275616  275616  275616.000000  275616.000000  \n",
       "unique       923       1            NaN            NaN  \n",
       "top     New York     USA            NaN            NaN  \n",
       "freq       25748  275616            NaN            NaN  \n",
       "mean         NaN     NaN      37.111680     -93.981772  \n",
       "std          NaN     NaN       5.209627      18.086486  \n",
       "min          NaN     NaN      19.700000    -157.800000  \n",
       "25%          NaN     NaN      33.660000    -112.200000  \n",
       "50%          NaN     NaN      37.740000     -88.930000  \n",
       "75%          NaN     NaN      40.700000     -78.910000  \n",
       "max          NaN     NaN      61.180000      30.310000  "
      ]
     },
     "execution_count": 11,
     "metadata": {},
     "output_type": "execute_result"
    }
   ],
   "source": [
    "merge_data.describe(include='all')"
   ]
  },
  {
   "cell_type": "code",
   "execution_count": 12,
   "metadata": {},
   "outputs": [],
   "source": [
    "#fix the operative_system variable\n",
    "merge_data.operative_system=merge_data.operative_system.replace('i0S', 'iOS')\n",
    "merge_data.operative_system=merge_data.operative_system.replace('apple', 'mac')\n",
    "merge_data.operative_system=merge_data.operative_system.replace('wnddows', 'windows')\n",
    "merge_data.operative_system=merge_data.operative_system.replace('anroid', 'android')\n",
    "\n"
   ]
  },
  {
   "cell_type": "markdown",
   "metadata": {},
   "source": [
    "### Create features <a name=\"P31\"></a>"
   ]
  },
  {
   "cell_type": "code",
   "execution_count": 13,
   "metadata": {},
   "outputs": [
    {
     "name": "stdout",
     "output_type": "stream",
     "text": [
      "number of rows where the price is not $59 or $39: 3074\n"
     ]
    }
   ],
   "source": [
    "print('number of rows where the price is not $59 or $39:', \n",
    "      len(merge_data[(merge_data[\"price\"]!=59) & (merge_data[\"price\"]!=39)]))\n"
   ]
  },
  {
   "cell_type": "markdown",
   "metadata": {},
   "source": [
    "There appears to be a problem with the price column. Make a new price column based on the test column. __I am assuming the 'test' column is correct (and the price column is wrong); if I actually worked at this company I would confirm this assumption with someone who created the dataset. __"
   ]
  },
  {
   "cell_type": "code",
   "execution_count": 14,
   "metadata": {},
   "outputs": [
    {
     "data": {
      "text/plain": [
       "count    316800.000000\n",
       "mean         46.201578\n",
       "std           9.600475\n",
       "min          39.000000\n",
       "25%          39.000000\n",
       "50%          39.000000\n",
       "75%          59.000000\n",
       "max          59.000000\n",
       "Name: price_corrected, dtype: float64"
      ]
     },
     "execution_count": 14,
     "metadata": {},
     "output_type": "execute_result"
    }
   ],
   "source": [
    "merge_data['price_corrected']= np.where(merge_data['test']==1, 59, 39)\n",
    "merge_data.price_corrected.describe()"
   ]
  },
  {
   "cell_type": "code",
   "execution_count": 15,
   "metadata": {},
   "outputs": [],
   "source": [
    "#Operating system, city, country, lat, and long all have missingness \n",
    "#For the categorical variables (operating system, city, country), create a categorical variable with missing indicator\n",
    "cat_var=(\"operative_system\", \"city\", \"country\", \"operative_system\", \"device\")\n",
    "for v in cat_var:\n",
    "    merge_data[v+\"_cat\"] = merge_data[v].fillna(\"missing\").astype('category')\n"
   ]
  },
  {
   "cell_type": "markdown",
   "metadata": {},
   "source": [
    "#### Create a time variable\n",
    "I am converting the date time column to a date value, and making day of week and hour of day variables. __I am assuming that 60 seconds/minutes should have been entered as 0 seconds/minutes, and that years that are not reasonable (e.g. 2815) should be replaced with missing. This results in replacing 0.1% of dates as missing that previously had values. __ "
   ]
  },
  {
   "cell_type": "code",
   "execution_count": 18,
   "metadata": {},
   "outputs": [],
   "source": [
    "merge_data['timestamp_string'] = merge_data['timestamp'].apply(str)\n",
    "merge_data['timestamp_v2'] = merge_data['timestamp_string'].apply(lambda x: re.sub('60', '00', x)) \n",
    "merge_data['datetime'] = pd.to_datetime(merge_data['timestamp_v2'], errors='coerce')\n",
    "merge_data['weekday'] = merge_data['datetime'].dt.dayofweek\n",
    "merge_data['hour'] = merge_data['datetime'].dt.hour\n",
    "merge_data['date'] = merge_data['datetime'].dt.date"
   ]
  },
  {
   "cell_type": "markdown",
   "metadata": {},
   "source": [
    "#### Create a state variable "
   ]
  },
  {
   "cell_type": "code",
   "execution_count": 105,
   "metadata": {},
   "outputs": [],
   "source": [
    "#download a census shape fie of states\n",
    "states_filename = \"tl_2017_us_state.zip\"\n",
    "states_url = f\"https://www2.census.gov/geo/tiger/TIGER2017/STATE/{states_filename}\"\n",
    "states_file = pathlib.Path(states_filename)\n",
    "\n",
    "for data_file, url in zip([states_file], [states_url]):\n",
    "    if not data_file.is_file():\n",
    "        with urllib.request.urlopen(url) as resp, \\\n",
    "                open(data_file, \"wb\") as f:\n",
    "\n",
    "            f.write(resp.read())\n",
    "\n",
    "states_gdf = gpd.read_file(f\"zip://{states_file}\")\n"
   ]
  },
  {
   "cell_type": "code",
   "execution_count": 106,
   "metadata": {},
   "outputs": [
    {
     "name": "stderr",
     "output_type": "stream",
     "text": [
      "/anaconda3/envs/insight3/lib/python3.6/site-packages/ipykernel_launcher.py:9: UserWarning: Pandas doesn't allow columns to be created via a new attribute name - see https://pandas.pydata.org/pandas-docs/stable/indexing.html#attribute-access\n",
      "  if __name__ == '__main__':\n"
     ]
    }
   ],
   "source": [
    "#create a list of lat and long for users not missing that and assign the same coordiante system as census data \n",
    "places = merge_data.loc[:,['lat', 'long', 'user_id', 'country', 'converted']].dropna()\n",
    "places = places.loc[places['country'] == 'USA']\n",
    "#there are some lat and long that dont make sense\n",
    "places = places.loc[places['long'] <0 ]\n",
    "\n",
    "places[\"geometry\"] = places.apply(lambda row: Point(row[\"long\"], row[\"lat\"]), axis=1)\n",
    "places.head()\n",
    "places.crs = {\"init\": \"epsg:4269\"}\n",
    "\n"
   ]
  },
  {
   "cell_type": "code",
   "execution_count": 93,
   "metadata": {},
   "outputs": [],
   "source": [
    "#spatial join of users and states\n",
    "census_state = states_gdf[[\"geometry\", \"NAME\"]]\n",
    "\n",
    "users_state = gpd.sjoin(places, census_state, how='left', op='within')\n"
   ]
  },
  {
   "cell_type": "code",
   "execution_count": 119,
   "metadata": {},
   "outputs": [
    {
     "data": {
      "text/html": [
       "<div>\n",
       "<style scoped>\n",
       "    .dataframe tbody tr th:only-of-type {\n",
       "        vertical-align: middle;\n",
       "    }\n",
       "\n",
       "    .dataframe tbody tr th {\n",
       "        vertical-align: top;\n",
       "    }\n",
       "\n",
       "    .dataframe thead th {\n",
       "        text-align: right;\n",
       "    }\n",
       "</style>\n",
       "<table border=\"1\" class=\"dataframe\">\n",
       "  <thead>\n",
       "    <tr style=\"text-align: right;\">\n",
       "      <th></th>\n",
       "      <th>Unnamed: 0</th>\n",
       "      <th>user_id</th>\n",
       "      <th>timestamp</th>\n",
       "      <th>source</th>\n",
       "      <th>device</th>\n",
       "      <th>operative_system</th>\n",
       "      <th>test</th>\n",
       "      <th>price</th>\n",
       "      <th>converted_x</th>\n",
       "      <th>city</th>\n",
       "      <th>...</th>\n",
       "      <th>hour</th>\n",
       "      <th>date</th>\n",
       "      <th>revenue</th>\n",
       "      <th>lat_y</th>\n",
       "      <th>long_y</th>\n",
       "      <th>country_y</th>\n",
       "      <th>converted_y</th>\n",
       "      <th>geometry</th>\n",
       "      <th>index_right</th>\n",
       "      <th>NAME</th>\n",
       "    </tr>\n",
       "  </thead>\n",
       "  <tbody>\n",
       "    <tr>\n",
       "      <th>0</th>\n",
       "      <td>0</td>\n",
       "      <td>604839</td>\n",
       "      <td>2015-05-08 03:38:34</td>\n",
       "      <td>ads_facebook</td>\n",
       "      <td>mobile</td>\n",
       "      <td>iOS</td>\n",
       "      <td>0</td>\n",
       "      <td>39.0</td>\n",
       "      <td>0</td>\n",
       "      <td>Buffalo</td>\n",
       "      <td>...</td>\n",
       "      <td>3.0</td>\n",
       "      <td>2015-05-08</td>\n",
       "      <td>0</td>\n",
       "      <td>42.89</td>\n",
       "      <td>-78.86</td>\n",
       "      <td>USA</td>\n",
       "      <td>0.0</td>\n",
       "      <td>POINT (-78.86 42.89)</td>\n",
       "      <td>38.0</td>\n",
       "      <td>New York</td>\n",
       "    </tr>\n",
       "    <tr>\n",
       "      <th>1</th>\n",
       "      <td>1</td>\n",
       "      <td>624057</td>\n",
       "      <td>2015-05-10 21:08:46</td>\n",
       "      <td>seo-google</td>\n",
       "      <td>mobile</td>\n",
       "      <td>android</td>\n",
       "      <td>0</td>\n",
       "      <td>39.0</td>\n",
       "      <td>0</td>\n",
       "      <td>Lakeville</td>\n",
       "      <td>...</td>\n",
       "      <td>21.0</td>\n",
       "      <td>2015-05-10</td>\n",
       "      <td>0</td>\n",
       "      <td>44.68</td>\n",
       "      <td>-93.24</td>\n",
       "      <td>USA</td>\n",
       "      <td>0.0</td>\n",
       "      <td>POINT (-93.23999999999999 44.68)</td>\n",
       "      <td>3.0</td>\n",
       "      <td>Minnesota</td>\n",
       "    </tr>\n",
       "    <tr>\n",
       "      <th>2</th>\n",
       "      <td>2</td>\n",
       "      <td>317970</td>\n",
       "      <td>2015-04-04 15:01:23</td>\n",
       "      <td>ads-bing</td>\n",
       "      <td>mobile</td>\n",
       "      <td>android</td>\n",
       "      <td>0</td>\n",
       "      <td>39.0</td>\n",
       "      <td>0</td>\n",
       "      <td>Parma</td>\n",
       "      <td>...</td>\n",
       "      <td>15.0</td>\n",
       "      <td>2015-04-04</td>\n",
       "      <td>0</td>\n",
       "      <td>41.38</td>\n",
       "      <td>-81.73</td>\n",
       "      <td>USA</td>\n",
       "      <td>0.0</td>\n",
       "      <td>POINT (-81.73 41.38)</td>\n",
       "      <td>24.0</td>\n",
       "      <td>Ohio</td>\n",
       "    </tr>\n",
       "    <tr>\n",
       "      <th>3</th>\n",
       "      <td>3</td>\n",
       "      <td>685636</td>\n",
       "      <td>2015-05-07 07:26:01</td>\n",
       "      <td>direct_traffic</td>\n",
       "      <td>mobile</td>\n",
       "      <td>iOS</td>\n",
       "      <td>1</td>\n",
       "      <td>59.0</td>\n",
       "      <td>0</td>\n",
       "      <td>Fayetteville</td>\n",
       "      <td>...</td>\n",
       "      <td>7.0</td>\n",
       "      <td>2015-05-07</td>\n",
       "      <td>0</td>\n",
       "      <td>35.07</td>\n",
       "      <td>-78.90</td>\n",
       "      <td>USA</td>\n",
       "      <td>0.0</td>\n",
       "      <td>POINT (-78.90000000000001 35.07)</td>\n",
       "      <td>8.0</td>\n",
       "      <td>North Carolina</td>\n",
       "    </tr>\n",
       "    <tr>\n",
       "      <th>4</th>\n",
       "      <td>4</td>\n",
       "      <td>820854</td>\n",
       "      <td>2015-05-24 11:04:40</td>\n",
       "      <td>ads_facebook</td>\n",
       "      <td>web</td>\n",
       "      <td>mac</td>\n",
       "      <td>0</td>\n",
       "      <td>39.0</td>\n",
       "      <td>0</td>\n",
       "      <td>Fishers</td>\n",
       "      <td>...</td>\n",
       "      <td>11.0</td>\n",
       "      <td>2015-05-24</td>\n",
       "      <td>0</td>\n",
       "      <td>39.95</td>\n",
       "      <td>-86.02</td>\n",
       "      <td>USA</td>\n",
       "      <td>0.0</td>\n",
       "      <td>POINT (-86.02 39.95)</td>\n",
       "      <td>48.0</td>\n",
       "      <td>Indiana</td>\n",
       "    </tr>\n",
       "  </tbody>\n",
       "</table>\n",
       "<p>5 rows × 32 columns</p>\n",
       "</div>"
      ],
      "text/plain": [
       "   Unnamed: 0  user_id            timestamp          source  device  \\\n",
       "0           0   604839  2015-05-08 03:38:34    ads_facebook  mobile   \n",
       "1           1   624057  2015-05-10 21:08:46      seo-google  mobile   \n",
       "2           2   317970  2015-04-04 15:01:23        ads-bing  mobile   \n",
       "3           3   685636  2015-05-07 07:26:01  direct_traffic  mobile   \n",
       "4           4   820854  2015-05-24 11:04:40    ads_facebook     web   \n",
       "\n",
       "  operative_system  test  price  converted_x          city       ...        \\\n",
       "0              iOS     0   39.0            0       Buffalo       ...         \n",
       "1          android     0   39.0            0     Lakeville       ...         \n",
       "2          android     0   39.0            0         Parma       ...         \n",
       "3              iOS     1   59.0            0  Fayetteville       ...         \n",
       "4              mac     0   39.0            0       Fishers       ...         \n",
       "\n",
       "   hour        date  revenue  lat_y long_y country_y converted_y  \\\n",
       "0   3.0  2015-05-08        0  42.89 -78.86       USA         0.0   \n",
       "1  21.0  2015-05-10        0  44.68 -93.24       USA         0.0   \n",
       "2  15.0  2015-04-04        0  41.38 -81.73       USA         0.0   \n",
       "3   7.0  2015-05-07        0  35.07 -78.90       USA         0.0   \n",
       "4  11.0  2015-05-24        0  39.95 -86.02       USA         0.0   \n",
       "\n",
       "                           geometry index_right            NAME  \n",
       "0              POINT (-78.86 42.89)        38.0        New York  \n",
       "1  POINT (-93.23999999999999 44.68)         3.0       Minnesota  \n",
       "2              POINT (-81.73 41.38)        24.0            Ohio  \n",
       "3  POINT (-78.90000000000001 35.07)         8.0  North Carolina  \n",
       "4              POINT (-86.02 39.95)        48.0         Indiana  \n",
       "\n",
       "[5 rows x 32 columns]"
      ]
     },
     "execution_count": 119,
     "metadata": {},
     "output_type": "execute_result"
    }
   ],
   "source": [
    "merge_data_state = merge_data.merge(users_state, left_on='user_id', right_on='user_id', how='outer')\n",
    "merge_data_state.head()"
   ]
  },
  {
   "cell_type": "markdown",
   "metadata": {},
   "source": [
    "Locations of users in the US"
   ]
  },
  {
   "cell_type": "code",
   "execution_count": 120,
   "metadata": {},
   "outputs": [
    {
     "data": {
      "text/plain": [
       "<matplotlib.axes._subplots.AxesSubplot at 0x1a34dca0b8>"
      ]
     },
     "execution_count": 120,
     "metadata": {},
     "output_type": "execute_result"
    },
    {
     "data": {
      "image/png": "[encoded data removed]",
      "text/plain": [
       "<Figure size 432x288 with 1 Axes>"
      ]
     },
     "metadata": {},
     "output_type": "display_data"
    }
   ],
   "source": [
    "gs = GeoSeries(places.geometry)\n",
    "base = states_gdf.plot(color='lightgrey')\n",
    "\n",
    "bounds = gs.geometry.bounds\n",
    "bounds\n",
    "plt.xlim([bounds.minx.min()+25, bounds.maxx.max()+5])\n",
    "plt.ylim([bounds.miny.min()-1, bounds.maxy.max()-8]);\n",
    "\n",
    "gs.plot(ax=base,  color='navy', markersize=1)\n",
    "\n"
   ]
  },
  {
   "cell_type": "markdown",
   "metadata": {},
   "source": [
    "## Evaluate the randomness of the test group assignment <a name=\"P32\"></a>\n",
    "Here, I do chi2 tests and t-tests of several characteristcs of users and their A/B assignment. I expect all of these to be not associated (e.g., I don't expect to reject the null hypothesis), because A/B assignment should have been randomly associated. \n",
    "_I am assuming this is a typical thing to do for A/B tests._"
   ]
  },
  {
   "cell_type": "code",
   "execution_count": 121,
   "metadata": {},
   "outputs": [
    {
     "name": "stdout",
     "output_type": "stream",
     "text": [
      "chi2 p-value, weekday : 0.013508238914419659\n",
      "test            0         1\n",
      "weekday                    \n",
      "0.0      0.060247  0.061465\n",
      "1.0      0.062674  0.060569\n",
      "2.0      0.059095  0.060200\n",
      "3.0      0.117671  0.116051\n",
      "4.0      0.291269  0.290184\n",
      "5.0      0.234794  0.233718\n",
      "6.0      0.174250  0.177814\n",
      "chi2 p-value, hour : 1.145234861422912e-06\n",
      "test         0         1\n",
      "hour                    \n",
      "0.0   0.018219  0.017745\n",
      "1.0   0.018234  0.017665\n",
      "2.0   0.018486  0.018430\n",
      "3.0   0.017848  0.018772\n",
      "4.0   0.017858  0.015794\n",
      "5.0   0.017774  0.018790\n",
      "6.0   0.016993  0.018280\n",
      "7.0   0.034767  0.034672\n",
      "8.0   0.052175  0.052504\n",
      "9.0   0.070389  0.069151\n",
      "10.0  0.088865  0.087387\n",
      "11.0  0.103881  0.106107\n",
      "12.0  0.120760  0.122648\n",
      "13.0  0.054988  0.052311\n",
      "14.0  0.051898  0.052592\n",
      "15.0  0.051528  0.051687\n",
      "16.0  0.053421  0.052935\n",
      "17.0  0.051760  0.051687\n",
      "18.0  0.052670  0.050818\n",
      "19.0  0.017344  0.017920\n",
      "20.0  0.017655  0.017261\n",
      "21.0  0.017349  0.018535\n",
      "22.0  0.017907  0.018395\n",
      "23.0  0.017230  0.017911\n",
      "chi2 p-value, operative_system : 1.1106889351217562e-19\n",
      "test                     0         1\n",
      "operative_system                    \n",
      "android           0.253707  0.251083\n",
      "iOS               0.325515  0.315768\n",
      "mac               0.086127  0.081915\n",
      "windows           0.334651  0.351234\n",
      "chi2 p-value, device : 4.023716186479596e-18\n",
      "test           0         1\n",
      "device                    \n",
      "mobile  0.594302  0.578489\n",
      "web     0.405698  0.421511\n",
      "chi2 p-value, source : 0.001217850323722976\n",
      "test                    0         1\n",
      "source                             \n",
      "ads-bing         0.072061  0.072452\n",
      "ads-google       0.186796  0.188553\n",
      "ads-yahoo        0.023759  0.024230\n",
      "ads_facebook     0.168197  0.169115\n",
      "ads_other        0.095124  0.092872\n",
      "direct_traffic   0.191210  0.189378\n",
      "friend_referral  0.064779  0.066274\n",
      "seo-bing         0.006572  0.007178\n",
      "seo-google       0.074515  0.070802\n",
      "seo-other        0.029057  0.029530\n",
      "seo-yahoo        0.021483  0.021807\n",
      "seo_facebook     0.066447  0.067809\n"
     ]
    }
   ],
   "source": [
    "cat_var=['weekday', 'hour', 'operative_system', 'device', 'source']\n",
    "for c in cat_var:\n",
    "    crosstab_test = pd.crosstab(merge_data.test, merge_data[c],margins=False)\n",
    "    print(\"chi2 p-value,\", c, \":\", stats.chi2_contingency(crosstab_test)[1])\n",
    "    print(pd.crosstab(merge_data[c], merge_data.test, normalize='columns'))"
   ]
  },
  {
   "cell_type": "markdown",
   "metadata": {},
   "source": [
    "This makes me concerned that the randomization did not work exactly--for example, 59.4% of control purchases were made on mobile but 57.8% of test purchases were made on mobile, althought qualitatively the differences are close.\n",
    "__Ideally, the company would have done an A/A test before beginning. I am continuing assuming they did A/A testing and that the randomization worked correctly.__ "
   ]
  },
  {
   "cell_type": "markdown",
   "metadata": {},
   "source": [
    "## Compare conversion and revenue by control and test group <a name=\"P4\"></a>"
   ]
  },
  {
   "cell_type": "markdown",
   "metadata": {},
   "source": [
    "### Conversion <a name=\"P41\"></a>"
   ]
  },
  {
   "cell_type": "code",
   "execution_count": 122,
   "metadata": {},
   "outputs": [
    {
     "data": {
      "text/html": [
       "<div>\n",
       "<style scoped>\n",
       "    .dataframe tbody tr th:only-of-type {\n",
       "        vertical-align: middle;\n",
       "    }\n",
       "\n",
       "    .dataframe tbody tr th {\n",
       "        vertical-align: top;\n",
       "    }\n",
       "\n",
       "    .dataframe thead th {\n",
       "        text-align: right;\n",
       "    }\n",
       "</style>\n",
       "<table border=\"1\" class=\"dataframe\">\n",
       "  <thead>\n",
       "    <tr style=\"text-align: right;\">\n",
       "      <th></th>\n",
       "      <th>count</th>\n",
       "      <th>mean</th>\n",
       "      <th>std</th>\n",
       "      <th>min</th>\n",
       "      <th>25%</th>\n",
       "      <th>50%</th>\n",
       "      <th>75%</th>\n",
       "      <th>max</th>\n",
       "    </tr>\n",
       "    <tr>\n",
       "      <th>test</th>\n",
       "      <th></th>\n",
       "      <th></th>\n",
       "      <th></th>\n",
       "      <th></th>\n",
       "      <th></th>\n",
       "      <th></th>\n",
       "      <th></th>\n",
       "      <th></th>\n",
       "    </tr>\n",
       "  </thead>\n",
       "  <tbody>\n",
       "    <tr>\n",
       "      <th>0</th>\n",
       "      <td>202727.0</td>\n",
       "      <td>0.019904</td>\n",
       "      <td>0.139669</td>\n",
       "      <td>0.0</td>\n",
       "      <td>0.0</td>\n",
       "      <td>0.0</td>\n",
       "      <td>0.0</td>\n",
       "      <td>1.0</td>\n",
       "    </tr>\n",
       "    <tr>\n",
       "      <th>1</th>\n",
       "      <td>114073.0</td>\n",
       "      <td>0.015543</td>\n",
       "      <td>0.123698</td>\n",
       "      <td>0.0</td>\n",
       "      <td>0.0</td>\n",
       "      <td>0.0</td>\n",
       "      <td>0.0</td>\n",
       "      <td>1.0</td>\n",
       "    </tr>\n",
       "  </tbody>\n",
       "</table>\n",
       "</div>"
      ],
      "text/plain": [
       "         count      mean       std  min  25%  50%  75%  max\n",
       "test                                                       \n",
       "0     202727.0  0.019904  0.139669  0.0  0.0  0.0  0.0  1.0\n",
       "1     114073.0  0.015543  0.123698  0.0  0.0  0.0  0.0  1.0"
      ]
     },
     "execution_count": 122,
     "metadata": {},
     "output_type": "execute_result"
    }
   ],
   "source": [
    "#compare conversion by the test and control group\n",
    "merge_data.groupby('test')['converted'].describe()\n",
    "#The conversion rate for the control group is greater than that for the test group. "
   ]
  },
  {
   "cell_type": "code",
   "execution_count": 123,
   "metadata": {},
   "outputs": [
    {
     "data": {
      "text/html": [
       "<div>\n",
       "<style scoped>\n",
       "    .dataframe tbody tr th:only-of-type {\n",
       "        vertical-align: middle;\n",
       "    }\n",
       "\n",
       "    .dataframe tbody tr th {\n",
       "        vertical-align: top;\n",
       "    }\n",
       "\n",
       "    .dataframe thead th {\n",
       "        text-align: right;\n",
       "    }\n",
       "</style>\n",
       "<table border=\"1\" class=\"dataframe\">\n",
       "  <thead>\n",
       "    <tr style=\"text-align: right;\">\n",
       "      <th>converted</th>\n",
       "      <th>0</th>\n",
       "      <th>1</th>\n",
       "    </tr>\n",
       "    <tr>\n",
       "      <th>test</th>\n",
       "      <th></th>\n",
       "      <th></th>\n",
       "    </tr>\n",
       "  </thead>\n",
       "  <tbody>\n",
       "    <tr>\n",
       "      <th>0</th>\n",
       "      <td>198692</td>\n",
       "      <td>4035</td>\n",
       "    </tr>\n",
       "    <tr>\n",
       "      <th>1</th>\n",
       "      <td>112300</td>\n",
       "      <td>1773</td>\n",
       "    </tr>\n",
       "  </tbody>\n",
       "</table>\n",
       "</div>"
      ],
      "text/plain": [
       "converted       0     1\n",
       "test                   \n",
       "0          198692  4035\n",
       "1          112300  1773"
      ]
     },
     "execution_count": 123,
     "metadata": {},
     "output_type": "execute_result"
    }
   ],
   "source": [
    "### Use a chi2 test to evalaute the statistical significance of the difference\n",
    "crosstab_test_conv = pd.crosstab(merge_data.test, merge_data.converted,margins=False)\n",
    "crosstab_test_conv #a table of wether or not someone converted by control/test group"
   ]
  },
  {
   "cell_type": "code",
   "execution_count": 124,
   "metadata": {},
   "outputs": [
    {
     "name": "stdout",
     "output_type": "stream",
     "text": [
      "chi2 p-value 1.8029808465845306e-18\n"
     ]
    }
   ],
   "source": [
    "print(\"chi2 p-value\", stats.chi2_contingency(crosstab_test_conv)[1])\n",
    "#The difference in conversion rate for the control group vs test group appears to be statistically significant "
   ]
  },
  {
   "cell_type": "markdown",
   "metadata": {},
   "source": [
    "### Revenue <a name=\"P42\"></a>"
   ]
  },
  {
   "cell_type": "code",
   "execution_count": 125,
   "metadata": {
    "scrolled": true
   },
   "outputs": [
    {
     "name": "stdout",
     "output_type": "stream",
     "text": [
      "the average revenue per customer is 0.8269318181818182\n"
     ]
    }
   ],
   "source": [
    "merge_data['revenue']= merge_data['price_corrected']*merge_data['converted']\n",
    "print(\"the average revenue per customer is\", merge_data.revenue.mean())"
   ]
  },
  {
   "cell_type": "code",
   "execution_count": 126,
   "metadata": {},
   "outputs": [
    {
     "data": {
      "text/html": [
       "<div>\n",
       "<style scoped>\n",
       "    .dataframe tbody tr th:only-of-type {\n",
       "        vertical-align: middle;\n",
       "    }\n",
       "\n",
       "    .dataframe tbody tr th {\n",
       "        vertical-align: top;\n",
       "    }\n",
       "\n",
       "    .dataframe thead th {\n",
       "        text-align: right;\n",
       "    }\n",
       "</style>\n",
       "<table border=\"1\" class=\"dataframe\">\n",
       "  <thead>\n",
       "    <tr style=\"text-align: right;\">\n",
       "      <th></th>\n",
       "      <th>count</th>\n",
       "      <th>mean</th>\n",
       "      <th>std</th>\n",
       "      <th>min</th>\n",
       "      <th>25%</th>\n",
       "      <th>50%</th>\n",
       "      <th>75%</th>\n",
       "      <th>max</th>\n",
       "    </tr>\n",
       "    <tr>\n",
       "      <th>test</th>\n",
       "      <th></th>\n",
       "      <th></th>\n",
       "      <th></th>\n",
       "      <th></th>\n",
       "      <th></th>\n",
       "      <th></th>\n",
       "      <th></th>\n",
       "      <th></th>\n",
       "    </tr>\n",
       "  </thead>\n",
       "  <tbody>\n",
       "    <tr>\n",
       "      <th>0</th>\n",
       "      <td>202727.0</td>\n",
       "      <td>0.776241</td>\n",
       "      <td>5.447109</td>\n",
       "      <td>0.0</td>\n",
       "      <td>0.0</td>\n",
       "      <td>0.0</td>\n",
       "      <td>0.0</td>\n",
       "      <td>39.0</td>\n",
       "    </tr>\n",
       "    <tr>\n",
       "      <th>1</th>\n",
       "      <td>114073.0</td>\n",
       "      <td>0.917018</td>\n",
       "      <td>7.298192</td>\n",
       "      <td>0.0</td>\n",
       "      <td>0.0</td>\n",
       "      <td>0.0</td>\n",
       "      <td>0.0</td>\n",
       "      <td>59.0</td>\n",
       "    </tr>\n",
       "  </tbody>\n",
       "</table>\n",
       "</div>"
      ],
      "text/plain": [
       "         count      mean       std  min  25%  50%  75%   max\n",
       "test                                                        \n",
       "0     202727.0  0.776241  5.447109  0.0  0.0  0.0  0.0  39.0\n",
       "1     114073.0  0.917018  7.298192  0.0  0.0  0.0  0.0  59.0"
      ]
     },
     "execution_count": 126,
     "metadata": {},
     "output_type": "execute_result"
    }
   ],
   "source": [
    "merge_data.groupby('test')['revenue'].describe()\n",
    "#the revenue per customer is larger in the test group"
   ]
  },
  {
   "cell_type": "code",
   "execution_count": 127,
   "metadata": {},
   "outputs": [
    {
     "name": "stdout",
     "output_type": "stream",
     "text": [
      "two-sample wilcoxon-test 3.3660746596158237e-16\n"
     ]
    }
   ],
   "source": [
    "#I am using a Mann Whitney U test because the distributions in revenus are very not normally distributed\n",
    "revenue_train = merge_data.loc[merge_data['test'] == 0]['revenue']\n",
    "revenue_test = merge_data.loc[merge_data['test'] == 1]['revenue']\n",
    "print(\"two-sample wilcoxon-test\", mannwhitneyu(revenue_train, revenue_test, alternative='two-sided')[1])\n",
    "#the difference in revenue by control vs test group appears to be statistically significant "
   ]
  },
  {
   "cell_type": "markdown",
   "metadata": {},
   "source": [
    "# Actionable variables associated with conversion rate <a name=\"P5\"></a>"
   ]
  },
  {
   "cell_type": "code",
   "execution_count": 139,
   "metadata": {},
   "outputs": [],
   "source": [
    "def p_and_graph_cat(var):\n",
    "    print(var)\n",
    "    graph_by_convertive = (merge_data_state.groupby(['converted_x'])[var]\n",
    "                         .value_counts(normalize=True)\n",
    "                         .rename('percentage')\n",
    "                         .mul(100)\n",
    "                         .reset_index())\n",
    "    p = sns.barplot(x=var, y=\"percentage\", hue=\"converted_x\", data=graph_by_convertive, palette=\"Set2\")\n",
    "    print(graph_by_convertive)\n",
    "    print(\"chi2 p-value:\", stats.chi2_contingency(pd.crosstab(merge_data_state.converted_x, merge_data_state[var], margins=False))[1])\n"
   ]
  },
  {
   "cell_type": "code",
   "execution_count": 140,
   "metadata": {},
   "outputs": [
    {
     "name": "stdout",
     "output_type": "stream",
     "text": [
      "operative_system_cat\n",
      "   converted_x operative_system_cat  percentage\n",
      "0            0              windows   31.918506\n",
      "1            0                  iOS   30.011704\n",
      "2            0              android   23.735659\n",
      "3            0                  mac    7.872550\n",
      "4            0              missing    6.461581\n",
      "5            1                  iOS   36.690771\n",
      "6            1              windows   29.476584\n",
      "7            1              android   19.266529\n",
      "8            1                  mac   10.365014\n",
      "9            1              missing    4.201102\n",
      "chi2 p-value: 2.540473789009871e-49\n"
     ]
    },
    {
     "data": {
      "image/png": "[encoded data removed]",
      "text/plain": [
       "<Figure size 432x288 with 1 Axes>"
      ]
     },
     "metadata": {},
     "output_type": "display_data"
    }
   ],
   "source": [
    "p_and_graph_cat('operative_system_cat')\n",
    "#operative_system_cat is statistically significantly associated with conversion "
   ]
  },
  {
   "cell_type": "code",
   "execution_count": 141,
   "metadata": {},
   "outputs": [
    {
     "name": "stdout",
     "output_type": "stream",
     "text": [
      "NAME\n",
      "    converted_x                  NAME  percentage\n",
      "0             0            California   18.887046\n",
      "1             0              New York   11.286907\n",
      "2             0                 Texas   10.789265\n",
      "3             0               Florida    6.686686\n",
      "4             0              Illinois    4.469145\n",
      "5             0         Massachusetts    2.886246\n",
      "6             0               Arizona    2.875878\n",
      "7             0              Michigan    2.641498\n",
      "8             0        North Carolina    2.615579\n",
      "9             0              Virginia    2.481912\n",
      "10            0            New Jersey    2.391937\n",
      "11            0               Indiana    2.210135\n",
      "12            0            Washington    2.191992\n",
      "13            0                  Ohio    1.950206\n",
      "14            0                Nevada    1.929841\n",
      "15            0          Pennsylvania    1.763220\n",
      "16            0             Tennessee    1.728785\n",
      "17            0              Colorado    1.488481\n",
      "18            0             Minnesota    1.474411\n",
      "19            0           Connecticut    1.448122\n",
      "20            0               Alabama    1.288536\n",
      "21            0             Louisiana    1.271874\n",
      "22            0             Wisconsin    1.266690\n",
      "23            0              Oklahoma    1.203744\n",
      "24            0              Missouri    1.122285\n",
      "25            0               Georgia    1.120063\n",
      "26            0              Maryland    0.957886\n",
      "27            0                Oregon    0.934188\n",
      "28            0                Kansas    0.857543\n",
      "29            0                  Utah    0.782748\n",
      "..          ...                   ...         ...\n",
      "70            1              Colorado    1.336525\n",
      "71            1              Oklahoma    1.276681\n",
      "72            1           Connecticut    1.216836\n",
      "73            1               Georgia    1.216836\n",
      "74            1               Alabama    1.117096\n",
      "75            1              Missouri    1.017355\n",
      "76            1                Kansas    0.957510\n",
      "77            1                Oregon    0.857770\n",
      "78            1              Kentucky    0.837822\n",
      "79            1                  Utah    0.837822\n",
      "80            1              Maryland    0.797925\n",
      "81            1                  Iowa    0.578496\n",
      "82            1              Nebraska    0.518652\n",
      "83            1          Rhode Island    0.498703\n",
      "84            1              Arkansas    0.458807\n",
      "85            1           Mississippi    0.359066\n",
      "86            1            New Mexico    0.299222\n",
      "87            1                Hawaii    0.259326\n",
      "88            1        South Carolina    0.259326\n",
      "89            1                 Idaho    0.219429\n",
      "90            1          North Dakota    0.219429\n",
      "91            1               Montana    0.179533\n",
      "92            1         West Virginia    0.179533\n",
      "93            1                Alaska    0.139637\n",
      "94            1  District of Columbia    0.119689\n",
      "95            1         New Hampshire    0.119689\n",
      "96            1                 Maine    0.099741\n",
      "97            1          South Dakota    0.099741\n",
      "98            1               Wyoming    0.079793\n",
      "99            1              Delaware    0.039896\n",
      "\n",
      "[100 rows x 3 columns]\n",
      "chi2 p-value: 0.30595800315537836\n"
     ]
    },
    {
     "data": {
      "image/png": "[encoded data removed]",
      "text/plain": [
       "<Figure size 432x288 with 1 Axes>"
      ]
     },
     "metadata": {},
     "output_type": "display_data"
    }
   ],
   "source": [
    "p_and_graph_cat('NAME')\n",
    "#state name is statistically significantly associated with conversion "
   ]
  },
  {
   "cell_type": "code",
   "execution_count": 142,
   "metadata": {},
   "outputs": [
    {
     "name": "stdout",
     "output_type": "stream",
     "text": [
      "source\n",
      "    converted_x           source  percentage\n",
      "0             0   direct_traffic   19.172077\n",
      "1             0       ads-google   18.682507\n",
      "2             0     ads_facebook   16.803409\n",
      "3             0        ads_other    9.469520\n",
      "4             0       seo-google    7.327774\n",
      "5             0         ads-bing    7.266939\n",
      "6             0     seo_facebook    6.709454\n",
      "7             0  friend_referral    6.396271\n",
      "8             0        seo-other    2.930659\n",
      "9             0        ads-yahoo    2.401499\n",
      "10            0        seo-yahoo    2.164600\n",
      "11            0         seo-bing    0.675291\n",
      "12            1       ads-google   21.973480\n",
      "13            1     ads_facebook   19.493714\n",
      "14            1  friend_referral   13.776477\n",
      "15            1   direct_traffic   12.794903\n",
      "16            1        ads_other    7.387636\n",
      "17            1       seo-google    6.784915\n",
      "18            1     seo_facebook    5.855003\n",
      "19            1         ads-bing    4.718443\n",
      "20            1        seo-other    2.496986\n",
      "21            1        ads-yahoo    1.928707\n",
      "22            1        seo-yahoo    1.911486\n",
      "23            1         seo-bing    0.878250\n",
      "chi2 p-value: 1.066966854833645e-154\n"
     ]
    },
    {
     "data": {
      "image/png": "[encoded data removed]",
      "text/plain": [
       "<Figure size 432x288 with 1 Axes>"
      ]
     },
     "metadata": {},
     "output_type": "display_data"
    }
   ],
   "source": [
    "p_and_graph_cat('source')\n",
    "#source is statistically significantly associated with conversion "
   ]
  },
  {
   "cell_type": "code",
   "execution_count": 143,
   "metadata": {},
   "outputs": [
    {
     "name": "stdout",
     "output_type": "stream",
     "text": [
      "device\n",
      "   converted_x  device  percentage\n",
      "0            0  mobile   58.847494\n",
      "1            0     web   41.152506\n",
      "2            1  mobile   59.573003\n",
      "3            1     web   40.426997\n",
      "chi2 p-value: 0.27141766839639136\n"
     ]
    },
    {
     "data": {
      "image/png": "[encoded data removed]",
      "text/plain": [
       "<Figure size 432x288 with 1 Axes>"
      ]
     },
     "metadata": {},
     "output_type": "display_data"
    }
   ],
   "source": [
    "p_and_graph_cat('device')\n",
    "#device is not statistically significantly associated with conversion "
   ]
  },
  {
   "cell_type": "code",
   "execution_count": 144,
   "metadata": {},
   "outputs": [
    {
     "name": "stdout",
     "output_type": "stream",
     "text": [
      "weekday\n",
      "    converted_x  weekday  percentage\n",
      "0             0      4.0   29.081993\n",
      "1             0      5.0   23.444936\n",
      "2             0      6.0   17.542701\n",
      "3             0      3.0   11.706841\n",
      "4             0      1.0    6.202535\n",
      "5             0      0.0    6.070751\n",
      "6             0      2.0    5.950244\n",
      "7             1      4.0   29.401621\n",
      "8             1      5.0   23.210898\n",
      "9             1      6.0   18.123814\n",
      "10            1      3.0   11.812381\n",
      "11            1      0.0    5.949302\n",
      "12            1      2.0    5.897569\n",
      "13            1      1.0    5.604415\n",
      "chi2 p-value: 0.5519994976686295\n"
     ]
    },
    {
     "data": {
      "image/png": "[encoded data removed]",
      "text/plain": [
       "<Figure size 432x288 with 1 Axes>"
      ]
     },
     "metadata": {},
     "output_type": "display_data"
    }
   ],
   "source": [
    "p_and_graph_cat('weekday')\n",
    "#weekday is not statistically significantly associated with conversion "
   ]
  },
  {
   "cell_type": "code",
   "execution_count": 145,
   "metadata": {},
   "outputs": [
    {
     "name": "stdout",
     "output_type": "stream",
     "text": [
      "hour\n",
      "    converted_x  hour  percentage\n",
      "0             0  12.0   12.146335\n",
      "1             0  11.0   10.482122\n",
      "2             0  10.0    8.834020\n",
      "3             0   9.0    6.999681\n",
      "4             0  13.0    5.406032\n",
      "5             0  16.0    5.319036\n",
      "6             0   8.0    5.213995\n",
      "7             0  14.0    5.207551\n",
      "8             0  18.0    5.198852\n",
      "9             0  17.0    5.172430\n",
      "10            0  15.0    5.156964\n",
      "11            0   7.0    3.472453\n",
      "12            0   2.0    1.842717\n",
      "13            0   3.0    1.824673\n",
      "14            0   5.0    1.822095\n",
      "15            0  22.0    1.810496\n",
      "16            0   0.0    1.807274\n",
      "17            0   1.0    1.803407\n",
      "18            0  21.0    1.779886\n",
      "19            0  19.0    1.752820\n",
      "20            0  20.0    1.752176\n",
      "21            0   6.0    1.747343\n",
      "22            0  23.0    1.747020\n",
      "23            0   4.0    1.700622\n",
      "24            1  12.0   12.019314\n",
      "25            1  11.0    9.725815\n",
      "26            1  10.0    8.794620\n",
      "27            1   9.0    6.708053\n",
      "28            1   8.0    6.052768\n",
      "29            1  16.0    5.621659\n",
      "30            1  14.0    5.604415\n",
      "31            1  18.0    5.276772\n",
      "32            1  15.0    5.242283\n",
      "33            1  17.0    5.225039\n",
      "34            1  13.0    5.207794\n",
      "35            1   7.0    3.517848\n",
      "36            1   4.0    2.293499\n",
      "37            1   2.0    2.052078\n",
      "38            1  19.0    1.879634\n",
      "39            1   1.0    1.776168\n",
      "40            1  23.0    1.776168\n",
      "41            1  20.0    1.707191\n",
      "42            1  22.0    1.689947\n",
      "43            1   0.0    1.672702\n",
      "44            1   6.0    1.655458\n",
      "45            1  21.0    1.655458\n",
      "46            1   3.0    1.465770\n",
      "47            1   5.0    1.379548\n",
      "chi2 p-value: 0.013391696233145435\n"
     ]
    },
    {
     "data": {
      "image/png": "[encoded data removed]",
      "text/plain": [
       "<Figure size 432x288 with 1 Axes>"
      ]
     },
     "metadata": {},
     "output_type": "display_data"
    }
   ],
   "source": [
    "p_and_graph_cat('hour')\n",
    "#hour is statistically significantly associated with conversion "
   ]
  },
  {
   "cell_type": "markdown",
   "metadata": {},
   "source": [
    "# Power calculation <a name=\"P6\"></a>\n",
    "## I am using a t-test power calculation. _I am assuming that the t test power calculation is approximating that for Mann Whitney U_. \n"
   ]
  },
  {
   "cell_type": "code",
   "execution_count": 56,
   "metadata": {},
   "outputs": [
    {
     "name": "stdout",
     "output_type": "stream",
     "text": [
      "group A pop 4806.705693550453\n",
      "group B pop 2403.3528467752267\n"
     ]
    }
   ],
   "source": [
    "group_a = power.tt_ind_solve_power(effect_size=.07, alpha=0.05, power=0.8, ratio=.5, alternative='two-sided')\n",
    "print(\"group A pop\", group_a)\n",
    "print(\"group B pop\", 0.5 * group_a)\n"
   ]
  },
  {
   "cell_type": "code",
   "execution_count": 111,
   "metadata": {},
   "outputs": [
    {
     "name": "stdout",
     "output_type": "stream",
     "text": [
      "count      91.000000\n",
      "mean     3474.241758\n",
      "std      2115.244385\n",
      "min      1325.000000\n",
      "25%      1489.500000\n",
      "50%      2851.000000\n",
      "75%      5627.000000\n",
      "max      7235.000000\n",
      "Name: date, dtype: float64\n",
      "5.440754716981132 days\n"
     ]
    }
   ],
   "source": [
    "#each group needs 1515 people per group.\n",
    "print(merge_data['date'].value_counts().describe())\n",
    "#the minimum visits per day ever was 1325\n",
    "print((4806+2403)/(1325), \"days\")"
   ]
  },
  {
   "cell_type": "markdown",
   "metadata": {},
   "source": [
    "# Conclusions <a name=\"P7\"></a>"
   ]
  },
  {
   "cell_type": "markdown",
   "metadata": {},
   "source": [
    "I would reccomend to the company to run an A/A test before an A/B test next time to ensure that the assignment was truely random. The rest of my reccomendations are based on the assumption the assignment was truly random.\n",
    "\n",
    "The data was very messy, and the company may want to explore making the data entry more automated and less prone to mistakes. \n",
    "\n",
    "If the company wants to maximize revenue, the company sell the software for 59 dollars. That price results in significant fewer sales, but significantly greater revenue. But if the company wants to maximize sales, it should sell the software for 39 dollars. This decision should be made in conjunction with the business team. \n",
    "\n",
    "Operating system, state, and source were statistically significantly associated with conversion rate. For example, customers using the operating system Mac, from the state Utah, or from the source Google Ads, all were more likely to convert than other groups-- these might be customers to specifically target in the future. The company may want to explore creating a machine learning model to target specific prices to specific users based on location, operating system, and source. \n",
    "\n",
    "Next time, to an effect of half the size observed here, the test could have been run for about 6 days. In the future, the company may want to consider running a power calcualtion before starting the experiment.\n",
    "\n"
   ]
  },
  {
   "cell_type": "code",
   "execution_count": null,
   "metadata": {},
   "outputs": [],
   "source": []
  }
 ],
 "metadata": {
  "kernelspec": {
   "display_name": "Python 3",
   "language": "python",
   "name": "python3"
  },
  "language_info": {
   "codemirror_mode": {
    "name": "ipython",
    "version": 3
   },
   "file_extension": ".py",
   "mimetype": "text/x-python",
   "name": "python",
   "nbconvert_exporter": "python",
   "pygments_lexer": "ipython3",
   "version": "3.6.6"
  }
 },
 "nbformat": 4,
 "nbformat_minor": 2
}
